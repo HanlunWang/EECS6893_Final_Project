{
 "cells": [
  {
   "cell_type": "code",
   "execution_count": 62,
   "metadata": {},
   "outputs": [
    {
     "name": "stderr",
     "output_type": "stream",
     "text": [
      "/var/folders/53/n7rd6d9d4sjb_g5xkbjjdjnm0000gn/T/ipykernel_26221/2932417875.py:39: FutureWarning: The frame.append method is deprecated and will be removed from pandas in a future version. Use pandas.concat instead.\n",
      "  X = X.append(input, ignore_index = True)\n",
      "/var/folders/53/n7rd6d9d4sjb_g5xkbjjdjnm0000gn/T/ipykernel_26221/2932417875.py:42: FutureWarning: The series.append method is deprecated and will be removed from pandas in a future version. Use pandas.concat instead.\n",
      "  y = y.append(pd.Series([0.0]), ignore_index = True)\n",
      "/Users/wanghanlun/opt/anaconda3/lib/python3.9/site-packages/sklearn/utils/validation.py:1688: FutureWarning: Feature names only support names that are all strings. Got feature names with dtypes: ['int', 'str']. An error will be raised in 1.2.\n",
      "  warnings.warn(\n"
     ]
    },
    {
     "name": "stdout",
     "output_type": "stream",
     "text": [
      "[5.49498741e+08]\n"
     ]
    },
    {
     "name": "stderr",
     "output_type": "stream",
     "text": [
      "/Users/wanghanlun/opt/anaconda3/lib/python3.9/site-packages/sklearn/utils/validation.py:1688: FutureWarning: Feature names only support names that are all strings. Got feature names with dtypes: ['int', 'str']. An error will be raised in 1.2.\n",
      "  warnings.warn(\n"
     ]
    }
   ],
   "source": [
    "import pandas as pd\n",
    "import numpy as np\n",
    "import seaborn as sns\n",
    "from sklearn.model_selection import train_test_split\n",
    "from matplotlib import pyplot as plt\n",
    "from joblib import dump, load\n",
    "\n",
    "from sklearn.linear_model import LinearRegression\n",
    "\n",
    "# features = ['year', 'title', 'imdbRate', 'runtime', 'genres', 'directors']\n",
    "def predict(year, title, imdbRate, runtime, genres, directors):\n",
    "    DATA_PATH = './dataset/combine.dataset.csv'\n",
    "\n",
    "    input = {'year': year, 'title': title, 'imdbRate': imdbRate, 'runtime': runtime, 'genres': genres, 'directors': directors}\n",
    "\n",
    "    # Read the data\n",
    "    X_full = pd.read_csv(DATA_PATH)\n",
    "\n",
    "    # Drop irrelative columns\n",
    "    X_full = X_full.drop(columns=['rank', 'tconst', 'page'])\n",
    "\n",
    "    # Drop rows including na or invalid value\n",
    "    X_full = X_full.dropna()\n",
    "    X_full = X_full[X_full.runtime != '\\\\'+'N']\n",
    "    X_full = X_full[X_full.genres != str(['\\\\N'])]\n",
    "\n",
    "    # Convert dollar format to float\n",
    "    X_full[['worldwide']] = X_full[['worldwide']].replace('[\\$,]','',regex=True).astype(float)\n",
    "\n",
    "    # Convert string format to int \n",
    "    X_full[['runtime']] = X_full[['runtime']].astype(int)\n",
    "\n",
    "    # Convert string to list\n",
    "    X_full['genres'] = X_full['genres'].str[2:-2].str.split(',')\n",
    "\n",
    "    # Get X and y\n",
    "    features = ['year', 'title', 'imdbRate', 'runtime', 'genres', 'directors']\n",
    "    X = X_full[features]\n",
    "    X = X.append(input, ignore_index = True)\n",
    "\n",
    "    y = X_full.worldwide\n",
    "    y = y.append(pd.Series([0.0]), ignore_index = True)\n",
    "\n",
    "    from sklearn.preprocessing import MultiLabelBinarizer\n",
    "\n",
    "    # Encode genres\n",
    "    mlb = MultiLabelBinarizer()\n",
    "    genres_df = pd.DataFrame(mlb.fit_transform(X['genres']),columns=mlb.classes_, index=X.index)\n",
    "    X = X.join(genres_df)\n",
    "    X = X.drop(columns=['genres'])\n",
    "\n",
    "    X_size = X.shape[0]\n",
    "    y_size = y.shape[0]\n",
    "\n",
    "    # Break off validation set from training data\n",
    "    X_train = X.iloc[:X_size - 2]\n",
    "    X_valid = X.iloc[X_size-2:X_size]\n",
    "    y_train = y.iloc[:y_size - 2]\n",
    "    y_valid = y.iloc[y_size-2:y_size]\n",
    "\n",
    "    \n",
    "\n",
    "    from sklearn.preprocessing import OneHotEncoder\n",
    "    object_cols = ['title', 'directors']\n",
    "    # Apply one-hot encoder to each column with categorical data\n",
    "    OH_encoder = OneHotEncoder(handle_unknown='ignore', sparse=False)\n",
    "    OH_cols_train = pd.DataFrame(OH_encoder.fit_transform(X_train[object_cols]))\n",
    "    OH_cols_valid = pd.DataFrame(OH_encoder.transform(X_valid[object_cols]))\n",
    "\n",
    "    # One-hot encoding removed index; put it back\n",
    "    OH_cols_train.index = X_train.index\n",
    "    OH_cols_valid.index = X_valid.index\n",
    "\n",
    "    # Remove categorical columns (will replace with one-hot encoding)\n",
    "    num_X_train = X_train.drop(object_cols, axis=1)\n",
    "    num_X_valid = X_valid.drop(object_cols, axis=1)\n",
    "\n",
    "    # Add one-hot encoded columns to numerical features\n",
    "    OH_X_train = pd.concat([num_X_train, OH_cols_train], axis=1)\n",
    "    OH_X_valid = pd.concat([num_X_valid, OH_cols_valid], axis=1)\n",
    "\n",
    "    \n",
    "    lr_model = LinearRegression()\n",
    "\n",
    "    # Fit the model to the training data\n",
    "    lr_model.fit(OH_X_train, y_train)\n",
    "    result = lr_model.predict(OH_X_valid.tail(1))\n",
    "\n",
    "    return result\n",
    "\n",
    "# year           int64\n",
    "# title         object\n",
    "# worldwide    float64\n",
    "# imdbRate     float64\n",
    "# runtime        int64\n",
    "# genres        object\n",
    "# directors     object\n",
    "# dtype: object\n",
    "\n",
    "year = 2022\n",
    "title = 'aaa'\n",
    "imdbRate = 3.1\n",
    "runtime = 66\n",
    "genres = ['Action']\n",
    "directors = \"['Colin Trevorrow']\"\n",
    "\n",
    "result = predict(year, title, imdbRate, runtime, genres, directors)\n",
    "\n",
    "print(result)\n",
    "\n",
    "\n",
    "\n",
    "\n"
   ]
  },
  {
   "cell_type": "code",
   "execution_count": null,
   "metadata": {},
   "outputs": [],
   "source": []
  }
 ],
 "metadata": {
  "kernelspec": {
   "display_name": "Python 3",
   "language": "python",
   "name": "python3"
  },
  "language_info": {
   "codemirror_mode": {
    "name": "ipython",
    "version": 3
   },
   "file_extension": ".py",
   "mimetype": "text/x-python",
   "name": "python",
   "nbconvert_exporter": "python",
   "pygments_lexer": "ipython3",
   "version": "3.9.15 (main, Nov  4 2022, 11:11:31) \n[Clang 12.0.0 ]"
  },
  "orig_nbformat": 4,
  "vscode": {
   "interpreter": {
    "hash": "b5b864475868f0702df21bfcc7ff9c9573b0d18dbde16ff1daf34ae9e2da6881"
   }
  }
 },
 "nbformat": 4,
 "nbformat_minor": 2
}
